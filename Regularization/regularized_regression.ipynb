{
 "cells": [
  {
   "cell_type": "markdown",
   "metadata": {},
   "source": [
    "## Regularized Regression 應用\n",
    "\n",
    "我們透過Scikit Learn來完成Ridge和Lasso regression的應用例子。\n",
    "- 什麼是Ridge reression? \n",
    "    - Ridge reression是regression加上L2 norm的regularization\n",
    "- 什麼是Lasso reression? \n",
    "    - 用L1 norm來做regularization。\n",
    "    - 而跟L2 norm的不同是一個是平方而一個是用絕對值，而L1 norm的效果是讓一些不重要或是影響較小的變數係數為0，如此一來就可以同步達到篩選特徵的效果。\n",
    "\n",
    "\n",
    "\n"
   ]
  },
  {
   "cell_type": "code",
   "execution_count": 1,
   "metadata": {},
   "outputs": [],
   "source": [
    "# implementation of linear regression \n",
    "import numpy as np \n",
    "import matplotlib.pyplot as plt\n",
    "import seaborn as sns\n",
    "from sklearn import datasets\n",
    "boston = datasets.load_boston()\n",
    "X_train = boston['data']\n",
    "y_train = boston['target']"
   ]
  },
  {
   "cell_type": "code",
   "execution_count": null,
   "metadata": {},
   "outputs": [],
   "source": [
    "from sklearn.linear_model import Ridge, Lasso\n",
    "alpha = 1\n",
    "\n",
    "# Ridge\n",
    "ridge_model = Ridge(alpha = alpha)\n",
    "ridge_model.fit(X_train, y_train)\n",
    "\n",
    "\n",
    "# Lasso\n",
    "lasso_model = Lasso(alpha = alpha)\n",
    "lasso_model.fit(X_train, y_train);"
   ]
  },
  {
   "cell_type": "code",
   "execution_count": 7,
   "metadata": {},
   "outputs": [],
   "source": [
    "from sklearn.linear_model import RidgeCV, LassoCV\n",
    "alphas = [0.01, 1, 100]\n",
    "\n",
    "# Ridge\n",
    "ridgeCV_model = RidgeCV(alphas = alphas)\n",
    "ridgeCV_model.fit(X_train, y_train)\n",
    "\n",
    "# Lasso\n",
    "lassoCV_model = LassoCV(alphas = alphas)\n",
    "lassoCV_model.fit(X_train, y_train);"
   ]
  },
  {
   "cell_type": "code",
   "execution_count": 9,
   "metadata": {},
   "outputs": [
    {
     "name": "stdout",
     "output_type": "stream",
     "text": [
      "Ridge alpha: 0.01\n",
      "Lasso alpha: 1.0\n"
     ]
    }
   ],
   "source": [
    "print('Ridge alpha:', ridgeCV_model.alpha_)\n",
    "print('Lasso alpha:', lassoCV_model.alpha_)"
   ]
  }
 ],
 "metadata": {
  "kernelspec": {
   "display_name": "uw_ml",
   "language": "python",
   "name": "uw_ml"
  },
  "language_info": {
   "codemirror_mode": {
    "name": "ipython",
    "version": 3
   },
   "file_extension": ".py",
   "mimetype": "text/x-python",
   "name": "python",
   "nbconvert_exporter": "python",
   "pygments_lexer": "ipython3",
   "version": "3.7.7"
  }
 },
 "nbformat": 4,
 "nbformat_minor": 2
}
